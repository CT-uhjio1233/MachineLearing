{
 "cells": [
  {
   "cell_type": "code",
   "execution_count": 1,
   "metadata": {},
   "outputs": [],
   "source": [
    "from os import listdir\n",
    "from os.path import isfile, join\n",
    "\n",
    "import pandas as pd\n",
    "import numpy as np\n",
    "from skimage import io, transform\n",
    "\n",
    "import xml.etree.ElementTree as ET\n",
    "import xmltodict\n",
    "import cv2 \n",
    "import csv\n",
    "\n",
    "import matplotlib.patches as patches"
   ]
  },
  {
   "cell_type": "code",
   "execution_count": 2,
   "metadata": {},
   "outputs": [],
   "source": [
    "train_classifier_dir = \"./data/train_classifier/\"\n",
    "csv_path = \"./data/train_classifier/train_list.csv\"\n",
    "classes = ['aquarium', 'bottle', 'bowl', 'box', 'bucket', 'plastic_bag', 'plate', 'styrofoam', 'tire', 'toilet', 'tub', 'washing_machine', 'water_tower']\n",
    "\n",
    "def get_rect_axis(bndbox):\n",
    "    xmin = int(bndbox[\"xmin\"])\n",
    "    xmax = int(bndbox[\"xmax\"])\n",
    "    ymin = int(bndbox[\"ymin\"])\n",
    "    ymax = int(bndbox[\"ymax\"])\n",
    "    return xmin, ymin, xmax-xmin, ymax-ymin\n",
    "\n",
    "def show_img(img_path, xml_data):\n",
    "    image = io.imread(img_path)\n",
    "    fig, ax = plt.subplots(1)\n",
    "    ax.imshow(image)\n",
    "    \n",
    "    if type(xml_data[\"object\"]) == list:\n",
    "        for i, ob in enumerate(xml_data[\"object\"]):\n",
    "            x, y , width, height = get_rect_axis(ob[\"bndbox\"])\n",
    "            \n",
    "            rect = patches.Rectangle((x, y), width, height, linewidth=1, edgecolor='r', facecolor='none')\n",
    "            ax.add_patch(rect)\n",
    "    else:\n",
    "        x, y , width, height = get_rect_axis(xml_data[\"object\"][\"bndbox\"])\n",
    "        \n",
    "        rect = patches.Rectangle((x, y), width, height, linewidth=1, edgecolor='r', facecolor='none')\n",
    "        ax.add_patch(rect)\n",
    "        \n",
    "    plt.show()\n",
    "    \n",
    "def xml_parser(xml_path):\n",
    "    xml_data = None\n",
    "    with open(xml_path) as fd:\n",
    "        xml_data = xmltodict.parse(fd.read())\n",
    "    return xml_data[\"annotation\"]\n",
    "       \n",
    "    \n",
    "def csv_writer(csvfilename, filename, label):\n",
    "    with open(csvfilename, 'a', newline='') as csvfile:\n",
    "        writer = csv.writer(csvfile)\n",
    "        writer.writerow([filename, label])"
   ]
  },
  {
   "cell_type": "code",
   "execution_count": 3,
   "metadata": {},
   "outputs": [],
   "source": [
    "def data_process(img_path, xml_data):\n",
    "    image = io.imread(img_path)\n",
    "    if type(xml_data[\"object\"]) == list:\n",
    "        for i, ob in enumerate(xml_data[\"object\"]):\n",
    "            x, y , width, height = get_rect_axis(ob[\"bndbox\"])\n",
    "            \n",
    "            filename = xml_data[\"filename\"][:-4] + \"_\" + str(i) +  xml_data[\"filename\"][-4:]\n",
    "            crop_img = image[y:y+height, x:x+width]\n",
    "            cv2.imwrite(train_classifier_dir + filename, crop_img)\n",
    "            \n",
    "            \n",
    "            csv_writer(csv_path, filename, classes.index(ob[\"name\"]))\n",
    "    else:\n",
    "        x, y , width, height = get_rect_axis(xml_data[\"object\"][\"bndbox\"])\n",
    "        \n",
    "        crop_img = image[y:y+height, x:x+width]\n",
    "        cv2.imwrite(train_classifier_dir + xml_data[\"filename\"], crop_img)\n",
    "        csv_writer(csv_path, xml_data[\"filename\"], classes.index(xml_data[\"object\"][\"name\"]))"
   ]
  },
  {
   "cell_type": "code",
   "execution_count": 7,
   "metadata": {},
   "outputs": [],
   "source": [
    "train_image_dir = \"./data/train_cdc/train_images/\"\n",
    "train_annotation_dir = \"./data/train_cdc/train_annotations/\"\n",
    "\n",
    "train_image_path = [join(train_image_dir, f) for f in listdir(train_image_dir) if isfile(join(train_image_dir, f))]\n",
    "train_annotation_path = [join(train_annotation_dir, f) for f in listdir(train_annotation_dir) if isfile(join(train_annotation_dir, f))]\n",
    "\n",
    "train_image_path.sort()\n",
    "train_annotation_path.sort()\n",
    "\n",
    "for i, a in zip(train_image_path, train_annotation_path):\n",
    "    xml_data = xml_parser(a)\n",
    "#     show_img(i, xml_data)\n",
    "    if xml_data.get(\"object\") is not None:\n",
    "        data_process(i, xml_data)"
   ]
  },
  {
   "cell_type": "code",
   "execution_count": 8,
   "metadata": {},
   "outputs": [],
   "source": [
    "import PIL.Image"
   ]
  },
  {
   "cell_type": "code",
   "execution_count": 11,
   "metadata": {},
   "outputs": [],
   "source": [
    "size = 64, 64\n",
    "\n",
    "for i, f in enumerate(listdir(train_classifier_dir)):\n",
    "    if isfile(join(train_classifier_dir, f)) and f[-3:] != 'csv':\n",
    "        filename = join(train_classifier_dir, f)\n",
    "        try:\n",
    "            im = PIL.Image.open(filename)\n",
    "            im = im.resize(size, PIL.Image.ANTIALIAS)\n",
    "            im.save(filename, \"JPEG\")\n",
    "        except IOError:\n",
    "            print(\"cannot create thumbnail for %s\" % filename)"
   ]
  },
  {
   "cell_type": "code",
   "execution_count": null,
   "metadata": {},
   "outputs": [],
   "source": []
  }
 ],
 "metadata": {
  "kernelspec": {
   "display_name": "Python 3",
   "language": "python",
   "name": "python3"
  },
  "language_info": {
   "codemirror_mode": {
    "name": "ipython",
    "version": 3
   },
   "file_extension": ".py",
   "mimetype": "text/x-python",
   "name": "python",
   "nbconvert_exporter": "python",
   "pygments_lexer": "ipython3",
   "version": "3.6.7"
  }
 },
 "nbformat": 4,
 "nbformat_minor": 2
}
